{
 "cells": [
  {
   "cell_type": "markdown",
   "metadata": {},
   "source": [
    "# Question 1 :\n",
    "\n",
    "_Research on whether addition, subtraction, multiplication, division, floor division and modulo\n",
    "operations be performed on complex numbers. Based on your study, implement a Python\n",
    "program to demonstrate these operations_\n"
   ]
  },
  {
   "cell_type": "code",
   "execution_count": 2,
   "metadata": {},
   "outputs": [
    {
     "name": "stdout",
     "output_type": "stream",
     "text": [
      "Enter the real part of first complex number : 3\n",
      "Enter the imaginary part of first complex number : 2\n",
      "Enter the real part of second complex number : 4\n",
      "Enter the imaginary part of second complex number : -3\n",
      "The first number is :  (3+2j)\n",
      "The second number is :  (4-3j)\n",
      "Addition is :  (7-1j)\n",
      "Subtraction is :  (-1+5j)\n",
      "Division is :  (0.24+0.68j)\n",
      "Multiplication is :  (18-1j)\n",
      "Floor division and Modulo division can't be performed on complex numbers\n"
     ]
    }
   ],
   "source": [
    "a1 = int(input(\"Enter the real part of first complex number : \"))\n",
    "b1 = int(input(\"Enter the imaginary part of first complex number : \"))\n",
    "a2 = int(input(\"Enter the real part of second complex number : \"))\n",
    "b2 = int(input(\"Enter the imaginary part of second complex number : \"))\n",
    "\n",
    "z1 = complex(a1, b1) \n",
    "z2 = complex(a2, b2) \n",
    "print(\"The first number is : \",z1)\n",
    "print(\"The second number is : \",z2)\n",
    "print( \"Addition is : \", z1+z2)\n",
    "print( \"Subtraction is : \", z1-z2)\n",
    "print( \"Division is : \", z1/z2)\n",
    "print( \"Multiplication is : \", z1*z2)\n",
    "try:\n",
    "    print(\"Floor division is : \", z1//z2)\n",
    "    print( \"Modulo division is : \", z1%z2)\n",
    "except:\n",
    "    print(\"Floor division and Modulo division can't be performed on complex numbers\")"
   ]
  },
  {
   "cell_type": "markdown",
   "metadata": {},
   "source": [
    "# Question 2 :\n",
    "\n",
    "_Research on range() functions and its parameters. Create a markdown cell and write in your own\n",
    "words what you understand about it. Implement a small program of your choice on the same_\n"
   ]
  },
  {
   "cell_type": "markdown",
   "metadata": {},
   "source": [
    "__range() function__ is a built-in function of Python. It is used when a user needs to perform an action for a specific number of times. It generates a sequence of numbers within a certain range depending on the arguments given to the function.\n"
   ]
  },
  {
   "cell_type": "markdown",
   "metadata": {},
   "source": [
    "__range() function__ takes 3 arguments.\n",
    "\n",
    "1. start : number from which the sequence is to be started.\n",
    "2. stop : number before which the sequence is to returned.\n",
    "3. step : determines the increment between each number."
   ]
  },
  {
   "cell_type": "markdown",
   "metadata": {},
   "source": [
    "__Syntax :__ range(start, stop, step)"
   ]
  },
  {
   "cell_type": "markdown",
   "metadata": {},
   "source": [
    "__Example :__"
   ]
  },
  {
   "cell_type": "code",
   "execution_count": 10,
   "metadata": {},
   "outputs": [
    {
     "name": "stdout",
     "output_type": "stream",
     "text": [
      "The first 10 natural numbers are : \n",
      "1 2 3 4 5 6 7 8 9 10 \n",
      "The sum of first 10 natural numbers is :  55\n",
      "The odd numbers between 1-10 are : \n",
      "1 3 5 7 9 \n",
      "The even numbers between 1-10 are : \n",
      "2 4 6 8 10 \n"
     ]
    }
   ],
   "source": [
    "print(\"The first 10 natural numbers are : \")\n",
    "for i in range(1,11): \n",
    "    print(i, end =\" \")\n",
    "print()\n",
    "\n",
    "sum = 0    \n",
    "for i in range(1,11): \n",
    "     sum = sum + i\n",
    "        \n",
    "print(\"The sum of first 10 natural numbers is : \",sum)\n",
    "\n",
    "print(\"The odd numbers between 1-10 are : \")\n",
    "for i in range(1,11,2):\n",
    "    print(i, end =\" \")\n",
    "print()\n",
    "\n",
    "print(\"The even numbers between 1-10 are : \")\n",
    "for i in range(2,11,2):\n",
    "    print(i, end =\" \")\n",
    "print()"
   ]
  },
  {
   "cell_type": "markdown",
   "metadata": {},
   "source": [
    "# Question 3:\n",
    "\n",
    "_Consider two numbers. Perform their subtraction and if the result of subtraction is greater than\n",
    "25, print their multiplication result else print their division result_\n"
   ]
  },
  {
   "cell_type": "code",
   "execution_count": 13,
   "metadata": {},
   "outputs": [
    {
     "name": "stdout",
     "output_type": "stream",
     "text": [
      "Enter the first number : 50\n",
      "Enter the second number : 20\n",
      "Subtraction is :  30\n",
      "Since their difference is greater than 25, multiplication of the numbers is :  1000\n"
     ]
    }
   ],
   "source": [
    "n1 = int(input(\"Enter the first number : \"))\n",
    "n2 = int(input(\"Enter the second number : \"))\n",
    "\n",
    "sub = n1-n2\n",
    "print(\"Subtraction is : \",sub)\n",
    "\n",
    "if sub > 25:\n",
    "    print(\"Since their difference is greater than 25, multiplication of the numbers is : \", n1*n2)\n",
    "else:\n",
    "    print(\"Since their difference is less than 25, division of the numbers is : \", n1/n2)"
   ]
  },
  {
   "cell_type": "markdown",
   "metadata": {},
   "source": [
    "# Question 4:\n",
    "\n",
    "_Consider a list of 10 elements of integer values. If the number in the list is divisible by 2, print the\n",
    "result as \"square of that number minus 2\"_\n"
   ]
  },
  {
   "cell_type": "code",
   "execution_count": 15,
   "metadata": {},
   "outputs": [
    {
     "name": "stdout",
     "output_type": "stream",
     "text": [
      "Enter 10 elements of integer values : \n",
      "1\n",
      "2\n",
      "3\n",
      "4\n",
      "5\n",
      "6\n",
      "7\n",
      "8\n",
      "9\n",
      "10\n",
      "The list is :  [1, 2, 3, 4, 5, 6, 7, 8, 9, 10]\n",
      "The new list is :  [1, 2, 3, 14, 5, 34, 7, 62, 9, 98]\n"
     ]
    }
   ],
   "source": [
    "int_list = []\n",
    "\n",
    "print(\"Enter 10 elements of integer values : \")\n",
    "for i in range(10):\n",
    "    a = int(input())\n",
    "    int_list.append(a)\n",
    "    \n",
    "print(\"The list is : \",int_list)\n",
    "    \n",
    "for i in range(10):\n",
    "    if int_list[i] % 2 == 0:\n",
    "        sq = (int_list[i]**2) - 2\n",
    "        int_list[i] = sq\n",
    "\n",
    "print(\"The new list is : \", int_list)"
   ]
  },
  {
   "cell_type": "markdown",
   "metadata": {},
   "source": [
    "# Question 5:\n",
    "\n",
    "_Consider a list of 10 elements. Print all the elements in the list which are greater than 7 when that\n",
    "number is divided 2_"
   ]
  },
  {
   "cell_type": "code",
   "execution_count": 17,
   "metadata": {},
   "outputs": [
    {
     "name": "stdout",
     "output_type": "stream",
     "text": [
      "Enter 10 elements of integer values : \n",
      "10\n",
      "11\n",
      "12\n",
      "13\n",
      "14\n",
      "15\n",
      "16\n",
      "17\n",
      "18\n",
      "19\n",
      "The list is :  [10, 11, 12, 13, 14, 15, 16, 17, 18, 19]\n",
      "Elements whose division by 2 is greater than 7 are : \n",
      "The new list is :  [15, 16, 17, 18, 19]\n"
     ]
    }
   ],
   "source": [
    "int_list = []\n",
    "new_list = []\n",
    "\n",
    "print(\"Enter 10 elements of integer values : \")\n",
    "for i in range(10):\n",
    "    a = int(input())\n",
    "    int_list.append(a)\n",
    "    \n",
    "print(\"The list is : \",int_list)\n",
    "\n",
    "for i in range(10):\n",
    "    if int_list[i] / 2 > 7:\n",
    "        new_list.append(int_list[i])\n",
    "        \n",
    "print(\"Elements whose division by 2 is greater than 7 are : \")\n",
    "print(\"The new list is : \", new_list)"
   ]
  },
  {
   "cell_type": "code",
   "execution_count": null,
   "metadata": {},
   "outputs": [],
   "source": []
  }
 ],
 "metadata": {
  "kernelspec": {
   "display_name": "Python 3",
   "language": "python",
   "name": "python3"
  },
  "language_info": {
   "codemirror_mode": {
    "name": "ipython",
    "version": 3
   },
   "file_extension": ".py",
   "mimetype": "text/x-python",
   "name": "python",
   "nbconvert_exporter": "python",
   "pygments_lexer": "ipython3",
   "version": "3.7.6"
  }
 },
 "nbformat": 4,
 "nbformat_minor": 4
}
