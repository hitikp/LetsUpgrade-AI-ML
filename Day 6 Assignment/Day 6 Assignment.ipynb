{
 "cells": [
  {
   "cell_type": "markdown",
   "metadata": {},
   "source": [
    "# Question 1 :\n",
    "\n",
    "_Assuming that we have some email addresses in the \"username@companyname.com\" format, please write program\n",
    "to print the company name of a given email address. Both user names and company names are composed of letters\n",
    "only._\n",
    "\n",
    "_Input Format:\n",
    "The first line of the input contains an email address.\n",
    "Output Format:\n",
    "Print the company name in single line_\n",
    "\n",
    "_Example : \n",
    "Input:\n",
    "john@google.com\n",
    "Output:\n",
    "google_"
   ]
  },
  {
   "cell_type": "code",
   "execution_count": 6,
   "metadata": {},
   "outputs": [
    {
     "name": "stdout",
     "output_type": "stream",
     "text": [
      "Enter your email address : abcd@yahoo.com\n",
      "The company name is :  yahoo\n"
     ]
    }
   ],
   "source": [
    "email_id = input(\"Enter your email address : \")\n",
    "\n",
    "username_removed = email_id.split('@')[1]\n",
    "comp_name = username_removed.split('.')[0]\n",
    "print(\"The company name is : \",comp_name)\n"
   ]
  },
  {
   "cell_type": "markdown",
   "metadata": {},
   "source": [
    "# Question 2 :\n",
    "\n",
    "_Write a program that accepts a comma-separated sequence of words as input and prints the words in a comma\n",
    "separated sequence after sorting them alphabetically._\n",
    "\n",
    "_Input Format:\n",
    "The first line of input contains words separated by the comma.\n",
    "Output Format:\n",
    "Print the sorted words separated by the comma_\n",
    "\n",
    "_Example:\n",
    "Input:\n",
    "without,hello,bag,world\n",
    "Output:\n",
    "bag,hello,without,world_"
   ]
  },
  {
   "cell_type": "code",
   "execution_count": 26,
   "metadata": {},
   "outputs": [
    {
     "name": "stdout",
     "output_type": "stream",
     "text": [
      "Enter the sequence of words seperated by comma : dog,apple,bat,cat\n",
      "The output string is : \n",
      "apple,bat,cat,dog,"
     ]
    }
   ],
   "source": [
    "inp_words = input(\"Enter the sequence of words seperated by comma : \")\n",
    "\n",
    "sep_words = inp_words.split(',')\n",
    "sorted_words = sorted(sep_words)\n",
    "\n",
    "print(\"The output string is : \")\n",
    "for i in sorted_words:\n",
    "    print(i, end = \",\")"
   ]
  },
  {
   "cell_type": "markdown",
   "metadata": {},
   "source": [
    "# Question 3 :\n",
    "\n",
    "_Create your own Jupyter Notebook for Sets.\n",
    "Reference link: https://www.w3schools.com/python/python_sets.asp_\n"
   ]
  },
  {
   "cell_type": "markdown",
   "metadata": {},
   "source": [
    "# Sets"
   ]
  },
  {
   "cell_type": "markdown",
   "metadata": {},
   "source": [
    "A set is an unordered collection of items. Every set element is unique and must be immutable. However, a set itself is mutable. \n",
    "We can add or remove items from it.\n",
    "\n",
    "Sets can also be used to perform mathematical set operations like union, intersection, symmetric difference, etc."
   ]
  },
  {
   "cell_type": "markdown",
   "metadata": {},
   "source": [
    "# Creating a Set"
   ]
  },
  {
   "cell_type": "markdown",
   "metadata": {},
   "source": [
    "A set is created by placing all the items inside curly braces __{}__, separated by comma, or by using the built-in __set()__ function."
   ]
  },
  {
   "cell_type": "markdown",
   "metadata": {},
   "source": [
    "A set cannot have mutable elements like lists, sets or dictionaries as its elements."
   ]
  },
  {
   "cell_type": "code",
   "execution_count": 3,
   "metadata": {},
   "outputs": [
    {
     "name": "stdout",
     "output_type": "stream",
     "text": [
      "{1, 2, 3}\n",
      "{1, 2, 3}\n"
     ]
    }
   ],
   "source": [
    "setA = {1, 2, 3}\n",
    "print(setA)\n",
    "\n",
    "setB = set([1, 2, 3, 2])\n",
    "print(setB)"
   ]
  },
  {
   "cell_type": "markdown",
   "metadata": {},
   "source": [
    "# Functions of Sets"
   ]
  },
  {
   "cell_type": "code",
   "execution_count": 4,
   "metadata": {},
   "outputs": [
    {
     "name": "stdout",
     "output_type": "stream",
     "text": [
      "The sets are : \n",
      "Universal set :  {1, 2, 3, 4, 5, 6, 7, 8, 9, 10}\n",
      "Set A :  {1, 2, 3, 4, 5}\n",
      "Set B :  {1, 3, 5, 7, 9}\n",
      "Universal set :  {1, 2, 3, 4, 5, 6, 7, 8, 9, 10, 11}\n",
      "Set B :  {1, 3, 5, 7, 9, 11}\n",
      "A union B is  {1, 2, 3, 4, 5, 7, 9, 11}\n",
      "Universal set intersection B is  {1, 3, 5, 7, 9, 11}\n",
      "A intersection B is  {1, 3, 5}\n",
      "Difference of A and B is  {2, 4}\n",
      "Symmetric Difference of A and B is  {2, 4, 7, 9, 11}\n",
      "Are A and B disjoint?  False\n",
      "Is A subset of B?  False\n",
      "Is A subset of Universal Set?  True\n",
      "Is Universal Set the superset of A?  True\n",
      "Is A the superset of B?  False\n",
      "{2, 3, 4, 5, 6, 7, 8, 9, 10, 11}\n",
      "{2, 3, 4, 5, 6, 7, 8, 9, 11}\n",
      "{6, 7, 8, 9, 11}\n",
      "{9, 11, 7}\n",
      "{11, 7}\n",
      "The sets are : \n",
      "Universal set :  set()\n",
      "Set A :  set()\n",
      "Set B :  set()\n"
     ]
    }
   ],
   "source": [
    "ss = {1,2,3,4,5,6,7,8,9,10}\n",
    "sa = {1,2,3,4,5}\n",
    "sb = {1,3,5,7,9}\n",
    "print(\"The sets are : \")\n",
    "print(\"Universal set : \",ss)\n",
    "print(\"Set A : \",sa)\n",
    "print(\"Set B : \",sb)\n",
    "\n",
    "#Adding an element\n",
    "ss.add(11)\n",
    "print(\"Universal set : \",ss)\n",
    "sb.add(11)\n",
    "print(\"Set B : \",sb)\n",
    "\n",
    "#Union of sets\n",
    "sc = sa.union(sb)\n",
    "print(\"A union B is \",sc)\n",
    "\n",
    "#Intersection of sets\n",
    "sd = ss.intersection(sb)\n",
    "print(\"Universal set intersection B is \",sd)\n",
    "se = sa.intersection(sb)\n",
    "print(\"A intersection B is \",se)\n",
    "\n",
    "#Difference of sets\n",
    "sf = sa.difference(sb)\n",
    "print(\"Difference of A and B is \",sf)\n",
    "sg = sa.symmetric_difference(sb)\n",
    "print(\"Symmetric Difference of A and B is \",sg)\n",
    "\n",
    "#Disjoint, Subset, Superset\n",
    "print(\"Are A and B disjoint? \", sa.isdisjoint(sb))\n",
    "print(\"Is A subset of B? \", sa.issubset(sb))\n",
    "print(\"Is A subset of Universal Set? \", sa.issubset(ss))\n",
    "print(\"Is Universal Set the superset of A? \", ss.issuperset(sa))\n",
    "print(\"Is A the superset of B? \", sa.issuperset(sb))\n",
    "\n",
    "#Removing elements from a set\n",
    "ss.pop()\n",
    "print(ss)\n",
    "ss.remove(10)\n",
    "print(ss)\n",
    "\n",
    "ss.difference_update(sa)\n",
    "print(ss)\n",
    "\n",
    "ss.intersection_update(sb)\n",
    "print(ss)\n",
    "\n",
    "ss.discard(9)\n",
    "print(ss)\n",
    "\n",
    "ss.clear()\n",
    "sa.clear()\n",
    "sb.clear()\n",
    "\n",
    "print(\"The sets are : \")\n",
    "print(\"Universal set : \",ss)\n",
    "print(\"Set A : \",sa)\n",
    "print(\"Set B : \",sb)"
   ]
  },
  {
   "cell_type": "markdown",
   "metadata": {},
   "source": [
    "# Question 4 :\n",
    "\n",
    "_Given a list of n-1 numbers ranging from 1 to n, your task is to find the missing number. There are no duplicates_\n",
    "\n",
    "_Input Format:\n",
    "The first line contains n-1 numbers with each number separated by a space.\n",
    "Output Format:\n",
    "Print the missing number_\n",
    "\n",
    "_Example:\n",
    "Input:1 2 4 6 3 7 8\n",
    "Output:5_\n",
    "\n",
    "_Explanation:\n",
    "In the above list of numbers 5 is missing and hence 5 is the input_"
   ]
  },
  {
   "cell_type": "code",
   "execution_count": 16,
   "metadata": {},
   "outputs": [
    {
     "name": "stdout",
     "output_type": "stream",
     "text": [
      "Enter the sequence of numbers : 1 2 4 6 3 7 8\n",
      "The missing number from the sequence is :  5\n"
     ]
    }
   ],
   "source": [
    "inp_num = input(\"Enter the sequence of numbers : \")\n",
    "\n",
    "split_list = inp_num.split(' ')\n",
    "sorted_list = sorted(split_list)\n",
    "\n",
    "no_list = []\n",
    "for i in sorted_list:\n",
    "    no_list.append(int(i))\n",
    "\n",
    "def MissingNo(inp_list): \n",
    "    n = len(inp_list) \n",
    "    total = (n + 1)*(n + 2)/2\n",
    "    sum_of_list = sum(inp_list) \n",
    "    return total - sum_of_list \n",
    "\n",
    "ans = MissingNo(no_list)\n",
    "print(\"The missing number from the sequence is : \",int(ans))"
   ]
  },
  {
   "cell_type": "markdown",
   "metadata": {},
   "source": [
    "# Question 5 :\n",
    "\n",
    "_With a given list L, write a program to print this list L after removing all duplicate values with original order reserved_\n",
    "\n",
    "_Example:\n",
    "If the input list is\n",
    "12 24 35 24 88 120 155 88 120 155\n",
    "Then the output should be\n",
    "12 24 35 88 120 155_\n",
    "\n",
    "_Explanation:\n",
    "Third, seventh and ninth element of the list L has been removed because it was already present.\n",
    "Input Format:\n",
    "In one line take the elements of the list L with each element separated by a space.\n",
    "Output Format:\n",
    "Print the elements of the modified list in one line with each element separated by a space.\n",
    "Example:\n",
    "Input: 12 24 35 24\n",
    "Output:\n",
    "12 24 35_\n"
   ]
  },
  {
   "cell_type": "code",
   "execution_count": 4,
   "metadata": {},
   "outputs": [
    {
     "name": "stdout",
     "output_type": "stream",
     "text": [
      "Enter the sequence of numbers : 12 24 35 24 88 120 155 88 120 155\n",
      "The output is : \n",
      "12 24 35 88 120 155 "
     ]
    }
   ],
   "source": [
    "def remove_dup(inp_list): \n",
    "    final_list = [] \n",
    "    for num in inp_list: \n",
    "        if num not in final_list: \n",
    "            final_list.append(num) \n",
    "    return final_list \n",
    "      \n",
    "inp_num = input(\"Enter the sequence of numbers : \")\n",
    "\n",
    "split_list = inp_num.split(' ')\n",
    "\n",
    "no_list = []\n",
    "for i in split_list:\n",
    "    no_list.append(int(i))\n",
    "\n",
    "res_list = remove_dup(no_list)\n",
    "print(\"The output is : \")\n",
    "\n",
    "for i in res_list:\n",
    "    print(i, end = \" \")"
   ]
  },
  {
   "cell_type": "code",
   "execution_count": null,
   "metadata": {},
   "outputs": [],
   "source": []
  }
 ],
 "metadata": {
  "kernelspec": {
   "display_name": "Python 3",
   "language": "python",
   "name": "python3"
  },
  "language_info": {
   "codemirror_mode": {
    "name": "ipython",
    "version": 3
   },
   "file_extension": ".py",
   "mimetype": "text/x-python",
   "name": "python",
   "nbconvert_exporter": "python",
   "pygments_lexer": "ipython3",
   "version": "3.7.6"
  }
 },
 "nbformat": 4,
 "nbformat_minor": 4
}
