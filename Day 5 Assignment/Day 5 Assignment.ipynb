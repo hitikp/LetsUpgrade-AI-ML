{
 "cells": [
  {
   "cell_type": "markdown",
   "metadata": {},
   "source": [
    "# Question 1 :\n",
    "\n",
    "_Write a Python program to find the first 20 non-even prime natural numbers_\n"
   ]
  },
  {
   "cell_type": "code",
   "execution_count": 3,
   "metadata": {},
   "outputs": [
    {
     "name": "stdout",
     "output_type": "stream",
     "text": [
      "The first 20 non-even prime natural numbers are : \n"
     ]
    },
    {
     "data": {
      "text/plain": [
       "[3, 5, 7, 11, 13, 17, 19, 23, 29, 31, 37, 41, 43, 47, 53, 59, 61, 67, 71, 73]"
      ]
     },
     "execution_count": 3,
     "metadata": {},
     "output_type": "execute_result"
    }
   ],
   "source": [
    " def get_primes(x):\n",
    "    primes = []\n",
    "    for a in range(3, 1000):\n",
    "        for b in range(2, a):\n",
    "            if a % b == 0:\n",
    "                break\n",
    "        else:\n",
    "            primes.append(a)\n",
    "        if len(primes) == x:\n",
    "            return primes\n",
    " \n",
    "print(\"The first 20 non-even prime natural numbers are : \")\n",
    "get_primes(20)  "
   ]
  },
  {
   "cell_type": "markdown",
   "metadata": {},
   "source": [
    "# Question 2 :\n",
    "\n",
    "_Write a Python program to implement 15 functions of string_"
   ]
  },
  {
   "cell_type": "code",
   "execution_count": 11,
   "metadata": {},
   "outputs": [
    {
     "name": "stdout",
     "output_type": "stream",
     "text": [
      "**** 15 Functions of String ****\n",
      "\n",
      "Hello123 : The String is alphanumeric.\n",
      "\n",
      "2020 : The String contains only digits.\n",
      "\n",
      "India : String contains only alphabetic characters.\n",
      "\n",
      "    : String contains only whitespace characters.\n",
      "\n",
      "UPPER : All letters in the string are uppercase.\n",
      "\n",
      "lower : All letters in the string are lowercase.\n",
      "\n",
      "UPPPERlower : Convert String in lowercase: uppperlower \n",
      "\n",
      "UPPPERlower : Convert String in uppercase: UPPPERLOWER \n",
      "\n",
      "Before Left Strip :     Hello\n",
      "\n",
      "Left Strip : Hello\n",
      "Before Left Strip with Character H :  Hello\n",
      "\n",
      "Left Strip with Character H : ello\n",
      "\n",
      "Right Strip : Hello\n",
      "\n",
      "Right Strip with Character o : Hell\n",
      "\n",
      "Strip from both side : Hello\n",
      "\n",
      "Strip with Character H: ello World\n",
      "Strip with Character d: Hello Worl\n",
      "\n",
      "endswith() check whether a string ends with a specified substring\n",
      "The string is :  Hello\n",
      "Does it end with 'lo' ?  True\n",
      "Does it end with 'ol' ?  False\n",
      "\n",
      "startswith() check if a string starts with a specified substring\n",
      "The string is :  Hello\n",
      "Does it start with 'He' ?  True\n",
      "Does it start with 'Be' ?  False\n",
      "\n",
      "################## Find Method ##################\n",
      "The string is :  Hello\n",
      "'He' is located at index :  0\n",
      "'lo' is located at index :  3\n",
      "\n",
      "################## Replace Method ##################\n",
      "The string is :  Hello World\n",
      "The new string is =  Hello Python\n"
     ]
    }
   ],
   "source": [
    "def main():\n",
    "    print(\"**** 15 Functions of String ****\\n\")\n",
    "    #isalnum()\n",
    "    user_string = \"Hello123\"  \n",
    "    if user_string.isalnum():\n",
    "        print(user_string, ': The String is alphanumeric.\\n')\n",
    "    \n",
    "    #isdigit()\n",
    "    user_string = \"2020\"\n",
    "    if user_string.isdigit():\n",
    "        print(user_string, ': The String contains only digits.\\n')\n",
    " \n",
    "    #isalpha()\n",
    "    user_string = \"India\"\n",
    "    if user_string.isalpha():\n",
    "        print(user_string, ': String contains only alphabetic characters.\\n')\n",
    " \n",
    "    #isspace()\n",
    "    user_string = \"   \"\n",
    "    if user_string.isspace():\n",
    "        print(user_string, ': String contains only whitespace characters.\\n')\n",
    " \n",
    "    #isupper()\n",
    "    user_string = \"UPPER\"\n",
    "    if user_string.isupper():\n",
    "        print(user_string, ': All letters in the string are uppercase.\\n')\n",
    " \n",
    "    #islower()\n",
    "    user_string = \"lower\"\n",
    "    if user_string.islower():\n",
    "        print(user_string, ': All letters in the string are lowercase.\\n')\n",
    " \n",
    "    #lower()\n",
    "    user_string = \"UPPPERlower\"\n",
    "    toLower = user_string.lower()\n",
    "    print(user_string, ': Convert String in lowercase:', toLower, '\\n')\n",
    " \n",
    "    #upper()\n",
    "    toUpper = user_string.upper()\n",
    "    print(user_string, ': Convert String in uppercase:', toUpper, '\\n')\n",
    " \n",
    "    #lstrip()\n",
    "    user_string = \"   Hello\"\n",
    "    print(\"Before Left Strip : \", user_string)\n",
    "    print('\\nLeft Strip :', user_string.lstrip())\n",
    "    user_string = \"Hello\"\n",
    "    print(\"Before Left Strip with Character H : \", user_string)\n",
    "    print('\\nLeft Strip with Character H :', user_string.lstrip('H'))\n",
    " \n",
    "    #rstrip()\n",
    "    user_string = \"Hello     \"\n",
    "    print('\\nRight Strip :', user_string.rstrip())\n",
    "    user_string = \"Hello\"\n",
    "    print('\\nRight Strip with Character o :', user_string.rstrip('o'))\n",
    "    \n",
    "    #strip()\n",
    "    user_string = \"   Hello    \"\n",
    "    print('\\nStrip from both side :', user_string.strip())\n",
    "    user_string = \"Hello World\"\n",
    "    print('\\nStrip with Character H:', user_string.strip('H'))\n",
    "    print('Strip with Character d:', user_string.strip('d'))\n",
    "\n",
    "    #endswith()\n",
    "    print('\\nendswith() check whether a string ends with a specified substring')\n",
    "    user_string = \"Hello\"\n",
    "    print(\"The string is : \",user_string)\n",
    "    print(\"Does it end with 'lo' ? \",user_string.endswith('lo'))\n",
    "    print(\"Does it end with 'ol' ? \",user_string.endswith('ol'))\n",
    " \n",
    "    #startswith()\n",
    "    print('\\nstartswith() check if a string starts with a specified substring')\n",
    "    user_string = \"Hello\"\n",
    "    print(\"The string is : \",user_string)\n",
    "    print(\"Does it start with 'He' ? \",user_string.startswith('He'))\n",
    "    print(\"Does it start with 'Be' ? \",user_string.startswith('Be'))\n",
    " \n",
    "    #find()\n",
    "    print('\\n################## Find Method ##################')\n",
    "    user_string = \"Hello\"\n",
    "    print(\"The string is : \",user_string)\n",
    "    print(\"'He' is located at index : \",user_string.find('He'))\n",
    "    print(\"'lo' is located at index : \",user_string.find('lo'))\n",
    " \n",
    "    #replace\n",
    "    print('\\n################## Replace Method ##################')\n",
    "    user_string = \"Hello World\"\n",
    "    print(\"The string is : \",user_string)\n",
    "    old = \"World\"\n",
    "    new = \"Python\"\n",
    "    print(\"The new string is = \",user_string.replace(old, new))\n",
    " \n",
    "main()"
   ]
  },
  {
   "cell_type": "markdown",
   "metadata": {},
   "source": [
    "# Question 3 :\n",
    "\n",
    "_Write a Python program to check if the given string is a Palindrome or Anagram or None of them.\n",
    "Display the message accordingly to the user_"
   ]
  },
  {
   "cell_type": "code",
   "execution_count": 6,
   "metadata": {},
   "outputs": [
    {
     "name": "stdout",
     "output_type": "stream",
     "text": [
      "Enter a string to check whether it is palidrome or not : Mom\n",
      "The given string is a Palindrome.\n",
      "\n",
      "Enter two strings to check whether they are anagrams or not..\n",
      "Enter the first string : Fried\n",
      "Enter the second string : fired\n",
      "The strings are Anagrams.\n"
     ]
    }
   ],
   "source": [
    "pal = input(\"Enter a string to check whether it is palidrome or not : \")\n",
    "pal_low = pal.lower()\n",
    "rev_pal = pal_low[::-1]\n",
    "if pal_low == rev_pal:\n",
    "    print(\"The given string is a Palindrome.\")\n",
    "else:\n",
    "    print(\"The given string is not a Palindrome.\")\n",
    "    \n",
    "print()    \n",
    "print(\"Enter two strings to check whether they are anagrams or not..\")\n",
    "anag_1 = input(\"Enter the first string : \")\n",
    "anag_2 = input(\"Enter the second string : \")\n",
    "a1 = anag_1.lower()\n",
    "a2 = anag_2.lower()\n",
    "\n",
    "if(sorted(a1) == sorted(a2)):\n",
    "     print(\"The strings are Anagrams.\")\n",
    "else:\n",
    "     print(\"The strings are not Anagrams.\")"
   ]
  },
  {
   "cell_type": "markdown",
   "metadata": {},
   "source": [
    "# Question 4 :\n",
    "\n",
    "_Write a Python's user defined function that removes all the additional characters from the string\n",
    "and converts it finally to lower case using built-in lower(). eg: If the string is \"Dr. Darshan Ingle\n",
    "@AI-ML Trainer\", then the output be \"drdarshaningleaimltrainer\"_"
   ]
  },
  {
   "cell_type": "code",
   "execution_count": 1,
   "metadata": {},
   "outputs": [
    {
     "name": "stdout",
     "output_type": "stream",
     "text": [
      "Enter a string : Dr. Darshan Ingle @AI-ML Trainer\n",
      "The resultant string is :  drdarshaningleaimltrainer\n"
     ]
    }
   ],
   "source": [
    "def clean_string(inp_str):\n",
    "    bad_sym = ['.','@','-','_','!','#','$','%','&','*','(',')','[',']','{','}','?','/',',',':']\n",
    "   \n",
    "    # To remove blank spaces\n",
    "    res = inp_str.replace(\" \",\"\")\n",
    "    \n",
    "    # To remove symbols \n",
    "    for i in bad_sym:\n",
    "        res = res.replace(i,\"\")\n",
    "    \n",
    "    # To convert to lower case\n",
    "    res = res.lower()\n",
    "    return res\n",
    "\n",
    "input_str = input(\"Enter a string : \")\n",
    "print(\"The resultant string is : \",clean_string(input_str))"
   ]
  },
  {
   "cell_type": "code",
   "execution_count": null,
   "metadata": {},
   "outputs": [],
   "source": []
  }
 ],
 "metadata": {
  "kernelspec": {
   "display_name": "Python 3",
   "language": "python",
   "name": "python3"
  },
  "language_info": {
   "codemirror_mode": {
    "name": "ipython",
    "version": 3
   },
   "file_extension": ".py",
   "mimetype": "text/x-python",
   "name": "python",
   "nbconvert_exporter": "python",
   "pygments_lexer": "ipython3",
   "version": "3.7.6"
  }
 },
 "nbformat": 4,
 "nbformat_minor": 4
}
