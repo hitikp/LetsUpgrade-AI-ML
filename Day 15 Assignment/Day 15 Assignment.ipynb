{
 "cells": [
  {
   "cell_type": "markdown",
   "metadata": {},
   "source": [
    "# Day 15 Assignment - Hitik Panchal"
   ]
  },
  {
   "cell_type": "markdown",
   "metadata": {},
   "source": [
    "# 1. Create a 3x3x3 Array with Random Values "
   ]
  },
  {
   "cell_type": "code",
   "execution_count": 2,
   "metadata": {},
   "outputs": [
    {
     "name": "stdout",
     "output_type": "stream",
     "text": [
      "[[[0.85072537 0.44078797 0.7531967 ]\n",
      "  [0.34688896 0.72659313 0.55224545]\n",
      "  [0.0686137  0.26504949 0.39524275]]\n",
      "\n",
      " [[0.64135292 0.47193496 0.76798521]\n",
      "  [0.29325459 0.18261735 0.01919698]\n",
      "  [0.85785917 0.18190196 0.16078718]]\n",
      "\n",
      " [[0.86909327 0.40928568 0.05512646]\n",
      "  [0.69738529 0.65915387 0.8825752 ]\n",
      "  [0.36953306 0.29056831 0.09724406]]]\n"
     ]
    }
   ],
   "source": [
    "import numpy as np\n",
    "\n",
    "arr = np.random.random((3,3,3))\n",
    "print(arr)"
   ]
  },
  {
   "cell_type": "markdown",
   "metadata": {},
   "source": [
    "# 2. Create a 5x5 Matrix with Values 1,2,3,4 just below the Diagonal"
   ]
  },
  {
   "cell_type": "code",
   "execution_count": 3,
   "metadata": {},
   "outputs": [
    {
     "name": "stdout",
     "output_type": "stream",
     "text": [
      "[[0 0 0 0 0]\n",
      " [1 0 0 0 0]\n",
      " [0 2 0 0 0]\n",
      " [0 0 3 0 0]\n",
      " [0 0 0 4 0]]\n"
     ]
    }
   ],
   "source": [
    "arr1 = np.diag(1 + np.arange(4), k = -1)\n",
    "print (arr1)"
   ]
  },
  {
   "cell_type": "markdown",
   "metadata": {},
   "source": [
    "# 3. Create a 8x8 Matrix and Fill it with a Checker-board Pattern"
   ]
  },
  {
   "cell_type": "code",
   "execution_count": 4,
   "metadata": {},
   "outputs": [
    {
     "name": "stdout",
     "output_type": "stream",
     "text": [
      "[[0 1 0 1 0 1 0 1]\n",
      " [1 0 1 0 1 0 1 0]\n",
      " [0 1 0 1 0 1 0 1]\n",
      " [1 0 1 0 1 0 1 0]\n",
      " [0 1 0 1 0 1 0 1]\n",
      " [1 0 1 0 1 0 1 0]\n",
      " [0 1 0 1 0 1 0 1]\n",
      " [1 0 1 0 1 0 1 0]]\n"
     ]
    }
   ],
   "source": [
    "arr2 = np.zeros((8,8), dtype=int)\n",
    "arr2[1::2, ::2]= 1\n",
    "arr2[::2, 1::2] = 1\n",
    "print (arr2)"
   ]
  },
  {
   "cell_type": "markdown",
   "metadata": {},
   "source": [
    "# 4. Normalize a 5x5 Random Matrix"
   ]
  },
  {
   "cell_type": "code",
   "execution_count": 7,
   "metadata": {},
   "outputs": [
    {
     "name": "stdout",
     "output_type": "stream",
     "text": [
      "Original Array : \n",
      "\n",
      "[[0.1848709  0.6308253  0.86153516 0.76877093 0.81891137]\n",
      " [0.97187625 0.10708069 0.3155566  0.22163858 0.39061997]\n",
      " [0.32377636 0.47001704 0.00101594 0.17577159 0.14115155]\n",
      " [0.8762608  0.25154173 0.63725662 0.04686982 0.5862585 ]\n",
      " [0.38545813 0.97701002 0.63958621 0.08359759 0.33516995]]\n",
      "\n",
      "After normalization : \n",
      "\n",
      "[[0.18837713 0.64530039 0.88168488 0.78663899 0.8380127 ]\n",
      " [0.99473996 0.10867355 0.32227722 0.22604916 0.39918688]\n",
      " [0.33069916 0.48053683 0.         0.179054   0.14358244]\n",
      " [0.89677271 0.25668782 0.6518899  0.04698172 0.59963741]\n",
      " [0.39389808 1.         0.65427679 0.08461286 0.34237299]]\n"
     ]
    }
   ],
   "source": [
    "a1 = np.random.random((5,5))\n",
    "print(\"Original Array : \\n\")\n",
    "print(a1)\n",
    "\n",
    "a1_max = a1.max()\n",
    "a1_min = a1.min()\n",
    "\n",
    "a1 = (a1 - a1_min)/(a1_max - a1_min)\n",
    "print(\"\\nAfter normalization : \\n\")\n",
    "print(a1)"
   ]
  },
  {
   "cell_type": "markdown",
   "metadata": {},
   "source": [
    "# 5.  How to find Common Values Between Two Arrays ?"
   ]
  },
  {
   "cell_type": "code",
   "execution_count": 10,
   "metadata": {},
   "outputs": [
    {
     "name": "stdout",
     "output_type": "stream",
     "text": [
      "Array1 :  [ 0 10 20 30 40 50]\n",
      "Array2 :  [60 30 50]\n",
      "\n",
      "Common values between two arrays : \n",
      "[30 50]\n"
     ]
    }
   ],
   "source": [
    "c1 = np.array([0, 10, 20, 30, 40, 50])\n",
    "print(\"Array1 : \", c1)\n",
    "\n",
    "c2 = np.array([60, 30, 50])\n",
    "print(\"Array2 : \", c2)\n",
    "\n",
    "print(\"\\nCommon values between two arrays : \")\n",
    "print(np.intersect1d(c1, c2))"
   ]
  },
  {
   "cell_type": "markdown",
   "metadata": {},
   "source": [
    "# 6. How to Get the Dates of Yesterday , Today and Tomorrow ?"
   ]
  },
  {
   "cell_type": "code",
   "execution_count": 11,
   "metadata": {},
   "outputs": [
    {
     "name": "stdout",
     "output_type": "stream",
     "text": [
      "Yestraday :  2020-07-26\n",
      "Today :  2020-07-27\n",
      "Tomorrow :  2020-07-28\n"
     ]
    }
   ],
   "source": [
    "yday = np.datetime64('today', 'D') - np.timedelta64(1, 'D')\n",
    "print(\"Yestraday : \",yday)\n",
    "\n",
    "today = np.datetime64('today', 'D')\n",
    "print(\"Today : \",today)\n",
    "\n",
    "tomo = np.datetime64('today', 'D') + np.timedelta64(1, 'D')\n",
    "print(\"Tomorrow : \",tomo)"
   ]
  },
  {
   "cell_type": "markdown",
   "metadata": {},
   "source": [
    "# 7. Consider Two Random Array A and B, Check if they are Equal"
   ]
  },
  {
   "cell_type": "code",
   "execution_count": 18,
   "metadata": {},
   "outputs": [
    {
     "name": "stdout",
     "output_type": "stream",
     "text": [
      "First array : \n",
      "[0 0 1 0 1 1]\n",
      "\n",
      "Second array : \n",
      "[0 0 1 1 1 1]\n",
      "\n",
      "The arrays are not equal..\n"
     ]
    }
   ],
   "source": [
    "arr1 = np.random.randint(0,2,6)\n",
    "print(\"First array : \")\n",
    "print(arr1)\n",
    "\n",
    "arr2 = np.random.randint(0,2,6)\n",
    "print(\"\\nSecond array : \")\n",
    "print(arr2)\n",
    "\n",
    "array_equal = np.allclose(arr1, arr2)\n",
    "\n",
    "if(array_equal == False):\n",
    "    print(\"\\nThe arrays are not equal..\")\n",
    "else:\n",
    "    print(\"\\nThe arrays are equal..\")"
   ]
  },
  {
   "cell_type": "markdown",
   "metadata": {},
   "source": [
    "# 8. Create Random Vector of Size 10 and Replace the Maximum Value by 0 "
   ]
  },
  {
   "cell_type": "code",
   "execution_count": 21,
   "metadata": {},
   "outputs": [
    {
     "name": "stdout",
     "output_type": "stream",
     "text": [
      "Original array : \n",
      "\n",
      "[0.88234285 0.86405985 0.63954982 0.83042235 0.62349    0.33822449\n",
      " 0.25271054 0.73329651 0.86876224 0.40223829]\n",
      "\n",
      "Maximum value replaced by 0 : \n",
      "\n",
      "[0.         0.86405985 0.63954982 0.83042235 0.62349    0.33822449\n",
      " 0.25271054 0.73329651 0.86876224 0.40223829]\n"
     ]
    }
   ],
   "source": [
    "arr = np.random.random(10)\n",
    "print(\"Original array : \\n\")\n",
    "print(arr)\n",
    "\n",
    "arr[arr.argmax()] = 0\n",
    "print(\"\\nMaximum value replaced by 0 : \\n\")\n",
    "print(arr)\n"
   ]
  },
  {
   "cell_type": "markdown",
   "metadata": {},
   "source": [
    "# 9. How to Print all the Values of an Array ?"
   ]
  },
  {
   "cell_type": "code",
   "execution_count": 23,
   "metadata": {},
   "outputs": [
    {
     "name": "stdout",
     "output_type": "stream",
     "text": [
      "The array is : \n",
      "\n",
      "[0.5619436  0.53941154 0.86074312 0.9100361  0.15954302 0.4411648\n",
      " 0.64819441 0.70948218 0.75329063 0.65194182]\n",
      "\n",
      "The elements of the array are : \n",
      "\n",
      "0.5619436048600471\n",
      "0.5394115403080163\n",
      "0.8607431153524456\n",
      "0.9100361044597903\n",
      "0.15954301848932673\n",
      "0.44116480023106697\n",
      "0.6481944094876739\n",
      "0.7094821835716963\n",
      "0.7532906347153342\n",
      "0.6519418222034523\n"
     ]
    }
   ],
   "source": [
    "arr = np.random.random(10)\n",
    "print(\"The array is : \\n\")\n",
    "print(arr)\n",
    "\n",
    "print(\"\\nThe elements of the array are : \\n\")\n",
    "for i in arr:\n",
    "    print(i)"
   ]
  },
  {
   "cell_type": "markdown",
   "metadata": {},
   "source": [
    "# 10. Subtract the Mean of Each Row of a Matrix"
   ]
  },
  {
   "cell_type": "code",
   "execution_count": 24,
   "metadata": {},
   "outputs": [
    {
     "name": "stdout",
     "output_type": "stream",
     "text": [
      "Original matrix : \n",
      "\n",
      "[[0.77456265 0.20107012 0.53521704 0.14000961 0.23437798]\n",
      " [0.91908622 0.94732684 0.20247805 0.23237415 0.66849852]]\n",
      "\n",
      "Subtract the mean of each row of the said matrix : \n",
      "\n",
      "[[ 0.39751517 -0.17597736  0.15816956 -0.23703787 -0.1426695 ]\n",
      " [ 0.32513347  0.35337408 -0.39147471 -0.36157861  0.07454577]]\n"
     ]
    }
   ],
   "source": [
    "arr1 = np.random.rand(2 , 5)\n",
    "print(\"Original matrix : \\n\")\n",
    "print(arr1)\n",
    "\n",
    "print(\"\\nSubtract the mean of each row of the said matrix : \\n\")\n",
    "arr2 = arr1 - arr1.mean(axis=1, keepdims=True)\n",
    "print(arr2)"
   ]
  },
  {
   "cell_type": "markdown",
   "metadata": {},
   "source": [
    "# 11. Consider a Given Vector , how to Add 1 to Each Element Indexed by a Second Vector (Be Careful with Repeated Indices) ? "
   ]
  },
  {
   "cell_type": "code",
   "execution_count": 25,
   "metadata": {},
   "outputs": [
    {
     "name": "stdout",
     "output_type": "stream",
     "text": [
      "[2. 2. 3. 6. 1. 1. 1. 7. 4. 3.]\n"
     ]
    }
   ],
   "source": [
    "arr1 = np.ones(10)\n",
    "arr2 = np.random.randint(0,len(arr1),20)\n",
    "arr1 += np.bincount(arr2, minlength=len(arr1))\n",
    "print(arr1)"
   ]
  },
  {
   "cell_type": "markdown",
   "metadata": {},
   "source": [
    "# 12. How to Get the Diagonal of a Dot Product ?"
   ]
  },
  {
   "cell_type": "code",
   "execution_count": 32,
   "metadata": {},
   "outputs": [
    {
     "name": "stdout",
     "output_type": "stream",
     "text": [
      "Array1 : \n",
      " [[8 5 2]\n",
      " [3 1 3]\n",
      " [9 8 5]]\n",
      "\n",
      "Array2 : \n",
      " [[7 8 2]\n",
      " [5 5 6]\n",
      " [7 8 8]]\n",
      "\n",
      "Dot Product is : \n",
      "\n",
      "[[ 95 105  62]\n",
      " [ 47  53  36]\n",
      " [138 152 106]]\n"
     ]
    },
    {
     "data": {
      "text/plain": [
       "array([ 95,  53, 106])"
      ]
     },
     "execution_count": 32,
     "metadata": {},
     "output_type": "execute_result"
    }
   ],
   "source": [
    "arr1 = np.random.randint(0,10,(3,3))\n",
    "arr2 = np.random.randint(0,10,(3,3))\n",
    "\n",
    "print(\"Array1 : \\n\", arr1)\n",
    "print(\"\\nArray2 : \\n\", arr2)\n",
    "\n",
    "print(\"\\nDot Product is : \\n\")\n",
    "print(np.dot(arr1, arr2))\n",
    "\n",
    "np.diag(np.dot(arr1, arr2))\n"
   ]
  },
  {
   "cell_type": "markdown",
   "metadata": {},
   "source": [
    "# 13. How to Find the Most Frequent Value in an Array ?"
   ]
  },
  {
   "cell_type": "code",
   "execution_count": 36,
   "metadata": {},
   "outputs": [
    {
     "name": "stdout",
     "output_type": "stream",
     "text": [
      "Original array : \n",
      "\n",
      "[1 5 5 0 1 8 3 2 9 8 1 2 4 0 2 9 5 6 9 9 2 1 6 6 7 1 0 9 6 8]\n",
      "\n",
      "Most frequent value in the above array : \n",
      "1\n"
     ]
    }
   ],
   "source": [
    "arr = np.random.randint(0, 10, 30)\n",
    "print(\"Original array : \\n\")\n",
    "print(arr)\n",
    "\n",
    "print(\"\\nMost frequent value in the above array : \")\n",
    "print(np.bincount(arr).argmax())\n"
   ]
  },
  {
   "cell_type": "markdown",
   "metadata": {},
   "source": [
    "# 14. How to Get the n Largest Values of an Array"
   ]
  },
  {
   "cell_type": "code",
   "execution_count": 44,
   "metadata": {},
   "outputs": [
    {
     "name": "stdout",
     "output_type": "stream",
     "text": [
      "Original array : \n",
      "[0 1 2 3 4 5 6 7 8 9]\n",
      "\n",
      "Enter the value of n : 3\n",
      "\n",
      "The  3  largest number(s) in the array are\\is : \n",
      "[7 8 9]\n"
     ]
    }
   ],
   "source": [
    "arr = np.arange(10)\n",
    "\n",
    "print(\"Original array : \")\n",
    "print(arr)\n",
    "\n",
    "np.random.shuffle(arr)\n",
    "n = int(input(\"\\nEnter the value of n : \"))\n",
    "print(\"\\nThe \",n,\" largest number(s) in the array are\\is : \")\n",
    "print (arr[np.argsort(arr)[-n:]])"
   ]
  },
  {
   "cell_type": "markdown",
   "metadata": {},
   "source": [
    "# 15. How to Create a Record Array from a Regular Array ?"
   ]
  },
  {
   "cell_type": "code",
   "execution_count": 46,
   "metadata": {},
   "outputs": [
    {
     "name": "stdout",
     "output_type": "stream",
     "text": [
      "The record array is : \n",
      "(1, 'Apple', 'Fruit')\n",
      "(2, 'Ball', 'Toy')\n",
      "(3, 'Car', 'Vehicle')\n"
     ]
    }
   ],
   "source": [
    "a1 = np.array([1,2,3,4])\n",
    "a2 = np.array(['Apple','Ball','Car','Dog'])\n",
    "a3 = np.array(['Fruit','Toy','Vehicle','Animal'])\n",
    "result = np.core.records.fromarrays([a1, a2, a3],names='A,B,C')\n",
    "\n",
    "print(\"The record array is : \")\n",
    "print(result[0])\n",
    "print(result[1])\n",
    "print(result[2]) "
   ]
  },
  {
   "cell_type": "code",
   "execution_count": null,
   "metadata": {},
   "outputs": [],
   "source": []
  }
 ],
 "metadata": {
  "kernelspec": {
   "display_name": "Python 3",
   "language": "python",
   "name": "python3"
  },
  "language_info": {
   "codemirror_mode": {
    "name": "ipython",
    "version": 3
   },
   "file_extension": ".py",
   "mimetype": "text/x-python",
   "name": "python",
   "nbconvert_exporter": "python",
   "pygments_lexer": "ipython3",
   "version": "3.7.6"
  }
 },
 "nbformat": 4,
 "nbformat_minor": 2
}
