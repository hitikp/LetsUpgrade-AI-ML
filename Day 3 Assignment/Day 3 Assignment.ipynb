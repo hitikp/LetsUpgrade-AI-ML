{
 "cells": [
  {
   "cell_type": "markdown",
   "metadata": {},
   "source": [
    "# Question 1 :\n",
    "\n",
    "_Write a program to subtract two complex numbers in Python_"
   ]
  },
  {
   "cell_type": "code",
   "execution_count": 3,
   "metadata": {},
   "outputs": [
    {
     "name": "stdout",
     "output_type": "stream",
     "text": [
      "Enter the real part of first complex number : 3\n",
      "Enter the imaginary part of first complex number : 4\n",
      "Enter the real part of second complex number : 2\n",
      "Enter the imaginary part of second complex number : 3\n",
      "The first number is :  (3+4j)\n",
      "The second number is :  (2+3j)\n",
      "Subtraction is :  (1+1j)\n"
     ]
    }
   ],
   "source": [
    "a1 = int(input(\"Enter the real part of first complex number : \"))\n",
    "b1 = int(input(\"Enter the imaginary part of first complex number : \"))\n",
    "a2 = int(input(\"Enter the real part of second complex number : \"))\n",
    "b2 = int(input(\"Enter the imaginary part of second complex number : \"))\n",
    "\n",
    "z1 = complex(a1, b1) \n",
    "z2 = complex(a2, b2) \n",
    "print(\"The first number is : \",z1)\n",
    "print(\"The second number is : \",z2)\n",
    "print( \"Subtraction is : \", z1-z2) "
   ]
  },
  {
   "cell_type": "markdown",
   "metadata": {},
   "source": [
    "# Question 2 :\n",
    "\n",
    "_Write a program to find the fourth root of a number_\n"
   ]
  },
  {
   "cell_type": "code",
   "execution_count": 6,
   "metadata": {},
   "outputs": [
    {
     "name": "stdout",
     "output_type": "stream",
     "text": [
      "Enter the number whose 4th root is to be found : 16\n",
      "The 4th root of  16 is  2.0\n"
     ]
    }
   ],
   "source": [
    "x = int(input(\"Enter the number whose 4th root is to be found : \"))\n",
    "y = x ** (1/4.0)\n",
    "print(\"The 4th root of \", x ,\"is \",y)"
   ]
  },
  {
   "cell_type": "markdown",
   "metadata": {},
   "source": [
    "# Question 3:\n",
    "\n",
    "_Write a program to swap two numbers in Python with the help of a temporary variable_\n"
   ]
  },
  {
   "cell_type": "code",
   "execution_count": 7,
   "metadata": {},
   "outputs": [
    {
     "name": "stdout",
     "output_type": "stream",
     "text": [
      "Enter the first number : 4\n",
      "Enter the second number : 5\n",
      "Before Swapping\n",
      "x =  4\n",
      "y =  5\n",
      "After Swapping\n",
      "x =  5\n",
      "y =  4\n"
     ]
    }
   ],
   "source": [
    "x = int(input(\"Enter the first number : \"))\n",
    "y = int(input(\"Enter the second number : \"))\n",
    "\n",
    "print(\"Before Swapping\")\n",
    "print(\"x = \",x)\n",
    "print(\"y = \",y)\n",
    "\n",
    "temp = x\n",
    "x = y\n",
    "y = temp\n",
    "\n",
    "print(\"After Swapping\")\n",
    "print(\"x = \",x)\n",
    "print(\"y = \",y)\n"
   ]
  },
  {
   "cell_type": "markdown",
   "metadata": {},
   "source": [
    "# Question 4:\n",
    "\n",
    "_Write a program to swap two numbers in Python without using a temporary variable_\n"
   ]
  },
  {
   "cell_type": "code",
   "execution_count": 8,
   "metadata": {},
   "outputs": [
    {
     "name": "stdout",
     "output_type": "stream",
     "text": [
      "Enter the first number : 4\n",
      "Enter the second number : 5\n",
      "Before Swapping\n",
      "x =  4\n",
      "y =  5\n",
      "After Swapping\n",
      "x =  5\n",
      "y =  4\n"
     ]
    }
   ],
   "source": [
    "x = int(input(\"Enter the first number : \"))\n",
    "y = int(input(\"Enter the second number : \"))\n",
    "\n",
    "print(\"Before Swapping\")\n",
    "print(\"x = \",x)\n",
    "print(\"y = \",y)\n",
    "\n",
    "x = x + y\n",
    "y = x - y\n",
    "x = x - y\n",
    "\n",
    "print(\"After Swapping\")\n",
    "print(\"x = \",x)\n",
    "print(\"y = \",y)"
   ]
  },
  {
   "cell_type": "markdown",
   "metadata": {},
   "source": [
    "# Question 5:\n",
    "\n",
    "_Write a program to convert fahrenheit to kelvin and celsius both_\n"
   ]
  },
  {
   "cell_type": "code",
   "execution_count": 10,
   "metadata": {},
   "outputs": [
    {
     "name": "stdout",
     "output_type": "stream",
     "text": [
      "Enter the temperature in Fahrenheit (F) : 32\n",
      "The temperature in Kelvin (K) =  273.5\n",
      "The temperature in Celsius (C) =  0.0\n"
     ]
    }
   ],
   "source": [
    "f = int(input(\"Enter the temperature in Fahrenheit (F) : \"))\n",
    "k = 273.5 + ((f - 32.0) * (5.0/9.0))\n",
    "c = (5.0/9) * (f - 32)\n",
    "\n",
    "print(\"The temperature in Kelvin (K) = \",k)\n",
    "print(\"The temperature in Celsius (C) = \",c)"
   ]
  },
  {
   "cell_type": "markdown",
   "metadata": {},
   "source": [
    "# Question 6:\n",
    "\n",
    "_Write a program to demonstrate all the available data types in Python. Hint: Use type() function_"
   ]
  },
  {
   "cell_type": "code",
   "execution_count": 15,
   "metadata": {},
   "outputs": [
    {
     "name": "stdout",
     "output_type": "stream",
     "text": [
      "10 is  <class 'int'>\n",
      "hello is  <class 'str'>\n",
      "2.5 is  <class 'float'>\n",
      "True is  <class 'bool'>\n",
      "[1, 2, 3, 4] is  <class 'list'>\n",
      "(1, 2, 3, 4) is  <class 'tuple'>\n",
      "{40, 10, 20, 30} is  <class 'set'>\n",
      "{1: 'One', 2: 'Two'} is  <class 'dict'>\n"
     ]
    }
   ],
   "source": [
    "a = 10 #integer\n",
    "b = \"hello\" #string\n",
    "c = 2.5 # float\n",
    "d = True #boolean\n",
    "e = [1,2,3,4] #list\n",
    "f = (1,2,3,4) #tuple\n",
    "g = {10,20,30,40} #set\n",
    "h = {1:'One', 2:'Two'} #dictionary\n",
    "\n",
    "print(a , \"is \",type(a))\n",
    "print(b , \"is \",type(b))\n",
    "print(c , \"is \",type(c))\n",
    "print(d , \"is \",type(d))\n",
    "print(e , \"is \",type(e))\n",
    "print(f , \"is \",type(f))\n",
    "print(g , \"is \",type(g))\n",
    "print(h , \"is \",type(h))"
   ]
  },
  {
   "cell_type": "markdown",
   "metadata": {},
   "source": [
    "# Question 7:\n",
    "\n",
    "_Create a Markdown cell in jupyter and list the steps discussed in the session by Dr. Darshan\n",
    "Ingle sir to create Github profile and upload Githubs Assignment link_"
   ]
  },
  {
   "cell_type": "markdown",
   "metadata": {},
   "source": [
    "__How to create a Github Account__\n",
    "\n",
    "1. Go to https://github.com/join\n",
    "2. Type a user name, your email address, and a password.\n",
    "3. Choose Sign up for GitHub, and then follow the instructions.\n",
    "\n",
    "__How to upload Github Assignment Link__\n",
    "\n",
    "1. Create project/assignment folder in your local machine\n",
    "2. Log in to your Github Account.\n",
    "3. Click on New Repository.\n",
    "4. Name the repository as LetsUpgrade AI-ML.\n",
    "5. Upload your project/assignment folder by drag-drop option.\n",
    "6. Click on commit changes.\n",
    "7. Open the LetsUpgrade project/assignment submission form.\n",
    "8. Fill the required details.\n",
    "9. Copy paste the github url where you uploaded the project/assignment folder in your github.\n",
    "10. Click on submit."
   ]
  },
  {
   "cell_type": "code",
   "execution_count": null,
   "metadata": {},
   "outputs": [],
   "source": []
  }
 ],
 "metadata": {
  "kernelspec": {
   "display_name": "Python 3",
   "language": "python",
   "name": "python3"
  },
  "language_info": {
   "codemirror_mode": {
    "name": "ipython",
    "version": 3
   },
   "file_extension": ".py",
   "mimetype": "text/x-python",
   "name": "python",
   "nbconvert_exporter": "python",
   "pygments_lexer": "ipython3",
   "version": "3.7.6"
  }
 },
 "nbformat": 4,
 "nbformat_minor": 4
}
